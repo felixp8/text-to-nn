{
  "cells": [
    {
      "cell_type": "markdown",
      "metadata": {
        "id": "puK8lgrbVG0t"
      },
      "source": [
        "<a target=\"_blank\" href=\"https://colab.research.google.com/github/felixp8/text-to-nn/blob/main/experiments/mlp/data_generation/notebooks/instructor_embedding.ipynb\">\n",
        "  <img src=\"https://colab.research.google.com/assets/colab-badge.svg\" alt=\"Open In Colab\"/>\n",
        "</a>"
      ]
    },
    {
      "cell_type": "code",
      "execution_count": 11,
      "metadata": {
        "id": "4zvHF7y8VG0u"
      },
      "outputs": [],
      "source": [
        "import torch\n",
        "import torch.nn as nn\n",
        "import torch.nn.functional as F\n",
        "import numpy as np\n",
        "import functools"
      ]
    },
    {
      "cell_type": "code",
      "execution_count": 3,
      "metadata": {
        "id": "QAkjI_llVG0v"
      },
      "outputs": [],
      "source": [
        "class GaussianFourierProjection(nn.Module):\n",
        "    \"\"\"Gaussian random features for encoding time steps.\"\"\"\n",
        "    def __init__(self, embed_dim, scale=30.):\n",
        "        super().__init__()\n",
        "        # Randomly sample weights during initialization. These weights are fixed\n",
        "        # during optimization and are not trainable.\n",
        "        self.W = nn.Parameter(torch.randn(embed_dim // 2) * scale, requires_grad=False)\n",
        "    def forward(self, x):\n",
        "        x_proj = x[:, None] * self.W[None, :] * 2 * np.pi\n",
        "        return torch.cat([torch.sin(x_proj), torch.cos(x_proj)], dim=-1)"
      ]
    },
    {
      "cell_type": "code",
      "source": [
        "class ScoreNet(nn.Module):\n",
        "    \"\"\"A time-dependent score-based model built upon U-Net architecture.\"\"\"\n",
        "\n",
        "    def __init__(self, marginal_prob_std, input_dim, hidden_dims=[], embed_dim=256, context_dim=768):\n",
        "        \"\"\"Initialize a time-dependent score-based network.\n",
        "\n",
        "        Args:\n",
        "          marginal_prob_std: A function that takes time t and gives the standard\n",
        "            deviation of the perturbation kernel p_{0t}(x(t) | x(0)).\n",
        "          channels: The number of channels for feature maps of each resolution.\n",
        "          embed_dim: The dimensionality of Gaussian random feature embeddings.\n",
        "        \"\"\"\n",
        "        super().__init__()\n",
        "        # Gaussian random feature embedding layer for time\n",
        "        self.t_embed = nn.Sequential(GaussianFourierProjection(embed_dim=embed_dim),\n",
        "            nn.Linear(embed_dim, embed_dim))\n",
        "        self.y_embed = nn.Linear(context_dim, embed_dim)\n",
        "        # Encoding layers where the resolution decreases\n",
        "        hidden_dims = [input_dim,] + hidden_dims + [input_dim,]\n",
        "        x_layers = []\n",
        "        t_layers = []\n",
        "        y_layers = []\n",
        "        norm_layers = []\n",
        "        for i in range(len(hidden_dims) - 2):\n",
        "            x_layers.append(nn.Linear(hidden_dims[i], hidden_dims[i+1]))\n",
        "            t_layers.append(nn.Linear(embed_dim, hidden_dims[i+1]))\n",
        "            y_layers.append(nn.Linear(embed_dim, hidden_dims[i+1]))\n",
        "            norm_layers.append(nn.LayerNorm(hidden_dims[i+1]))\n",
        "        self.x_layers = nn.ModuleList(x_layers)\n",
        "        self.t_layers = nn.ModuleList(t_layers)\n",
        "        self.y_layers = nn.ModuleList(y_layers)\n",
        "        self.norm_layers = nn.ModuleList(norm_layers)\n",
        "        self.final = nn.Linear(hidden_dims[-2], hidden_dims[-1])\n",
        "\n",
        "        # The swish activation function\n",
        "        self.act = nn.SiLU()\n",
        "        self.marginal_prob_std = marginal_prob_std\n",
        "\n",
        "    def forward(self, x, t, y):\n",
        "        # Obtain the Gaussian random feature embedding for t\n",
        "        t_embed = self.act(self.t_embed(t))\n",
        "        y_embed = self.act(self.y_embed(y))\n",
        "\n",
        "        h = x\n",
        "        for i in range(len(self.x_layers)):\n",
        "            h = self.x_layers[i](h)\n",
        "            h += self.t_layers[i](t_embed)\n",
        "            h += self.y_layers[i](y_embed)\n",
        "            h = self.norm_layers[i](h)\n",
        "            h = self.act(h)\n",
        "\n",
        "        h = self.act(self.final(h))\n",
        "\n",
        "        # Normalize output\n",
        "        h = h / self.marginal_prob_std(t)[:, None]\n",
        "        return h"
      ],
      "metadata": {
        "id": "URuWfB9-XTdb"
      },
      "execution_count": 8,
      "outputs": []
    },
    {
      "cell_type": "code",
      "source": [
        "device = 'cpu' # ['cuda', 'cpu']\n",
        "\n",
        "def marginal_prob_std(t, sigma):\n",
        "    \"\"\"Compute the mean and standard deviation of $p_{0t}(x(t) | x(0))$.\n",
        "\n",
        "    Args:\n",
        "      t: A vector of time steps.\n",
        "      sigma: The $\\sigma$ in our SDE.\n",
        "\n",
        "    Returns:\n",
        "      The standard deviation.\n",
        "    \"\"\"\n",
        "    t = torch.tensor(t, device=device)\n",
        "    return torch.sqrt((sigma**(2 * t) - 1.) / 2. / np.log(sigma))\n",
        "\n",
        "def diffusion_coeff(t, sigma):\n",
        "    \"\"\"Compute the diffusion coefficient of our SDE.\n",
        "\n",
        "    Args:\n",
        "      t: A vector of time steps.\n",
        "      sigma: The $\\sigma$ in our SDE.\n",
        "\n",
        "    Returns:\n",
        "      The vector of diffusion coefficients.\n",
        "    \"\"\"\n",
        "    return torch.tensor(sigma**t, device=device)\n",
        "\n",
        "sigma =  25.0\n",
        "marginal_prob_std_fn = functools.partial(marginal_prob_std, sigma=sigma)\n",
        "diffusion_coeff_fn = functools.partial(diffusion_coeff, sigma=sigma)"
      ],
      "metadata": {
        "id": "4H6k1xBcahV2"
      },
      "execution_count": 12,
      "outputs": []
    },
    {
      "cell_type": "code",
      "source": [
        "def loss_fn(model, x, y, marginal_prob_std, eps=1e-5):\n",
        "    \"\"\"The loss function for training score-based generative models.\n",
        "\n",
        "    Args:\n",
        "      model: A PyTorch model instance that represents a\n",
        "        time-dependent score-based model.\n",
        "      x: A mini-batch of training data.\n",
        "      marginal_prob_std: A function that gives the standard deviation of\n",
        "        the perturbation kernel.\n",
        "      eps: A tolerance value for numerical stability.\n",
        "    \"\"\"\n",
        "    random_t = torch.rand(x.shape[0], device=x.device) * (1. - eps) + eps\n",
        "    z = torch.randn_like(x)\n",
        "    std = marginal_prob_std(random_t)\n",
        "    perturbed_x = x + z * std[:, None]\n",
        "    score = model(perturbed_x, random_t, y)\n",
        "    loss = torch.mean(torch.sum((score * std[:, None] + z)**2, dim=(1,2,3)))\n",
        "    return loss"
      ],
      "metadata": {
        "id": "6x2AtDmcdq49"
      },
      "execution_count": 23,
      "outputs": []
    },
    {
      "cell_type": "code",
      "source": [
        "import pandas as pd\n",
        "import h5py\n",
        "\n",
        "expressions_file = \"./text-to-nn/experiments/mlp/data_generation/data/normal/expressions.csv\"\n",
        "parameters_file = \"./text-to-nn/experiments/mlp/data_generation/data/normal/parameters.h5\"\n",
        "embeddings_file = \"./text-to-nn/experiments/mlp/data_generation/data/normal/instructor_embeddings.h5\"\n",
        "\n",
        "expr_csv = pd.read_csv(expressions_file)\n",
        "with h5py.File(parameters_file, 'r') as h5f:\n",
        "    parameters = h5f['nn_parameters'][:h5f['counter'][()].item()]\n",
        "with h5py.File(embeddings_file, 'r') as h5f:\n",
        "    embeddings = h5f['embeddings'][()]\n",
        "\n",
        "assert expr_csv.shape[0] == parameters.shape[0]\n",
        "assert expr_csv.shape[0] == embeddings.shape[0]"
      ],
      "metadata": {
        "id": "nfRYnlZXp43_"
      },
      "execution_count": 14,
      "outputs": []
    },
    {
      "cell_type": "code",
      "source": [
        "good_mask = (expr_csv['best_mse_loss'] < 1.)\n",
        "\n",
        "expr_csv = expr_csv[good_mask]\n",
        "parameters = parameters[good_mask]\n",
        "embeddings = embeddings[good_mask]"
      ],
      "metadata": {
        "id": "rRwJ-jBMqdkU"
      },
      "execution_count": 17,
      "outputs": []
    },
    {
      "cell_type": "code",
      "source": [
        "train_mask = np.random.choice(parameters.shape[0], size=int(parameters.shape[0]*0.6), replace=False)\n",
        "train_mask = np.isin(np.arange(parameters.shape[0]), train_mask)\n",
        "valid_mask = ~train_mask\n",
        "\n",
        "train_expr = expr_csv[train_mask]\n",
        "train_parameters = parameters[train_mask]\n",
        "train_embeddings = embeddings[train_mask]\n",
        "\n",
        "valid_expr = expr_csv[valid_mask]\n",
        "valid_parameters = parameters[valid_mask]\n",
        "valid_embeddings = embeddings[valid_mask]"
      ],
      "metadata": {
        "id": "A5brjqqNquX4"
      },
      "execution_count": 18,
      "outputs": []
    },
    {
      "cell_type": "code",
      "source": [
        "train_parameters = torch.from_numpy(train_parameters)\n",
        "train_embeddings = torch.from_numpy(train_embeddings)"
      ],
      "metadata": {
        "id": "ntmBj0YYr90A"
      },
      "execution_count": 20,
      "outputs": []
    },
    {
      "cell_type": "code",
      "source": [
        "import torch.optim as optim\n",
        "from torch.utils.data import DataLoader, TensorDataset\n",
        "\n",
        "score_model = ScoreNet(\n",
        "    input_dim=625,\n",
        "    hidden_dims=[512, 256, 128, 256, 512],\n",
        "    embed_dim=256,\n",
        "    context_dim=768,\n",
        "    marginal_prob_std=marginal_prob_std_fn,\n",
        ")\n",
        "score_model = score_model.to(device)\n",
        "\n",
        "n_epochs =   50\n",
        "## size of a mini-batch\n",
        "batch_size =  32\n",
        "## learning rate\n",
        "lr=1e-4\n",
        "\n",
        "dataset = TensorDataset(train_parameters, train_embeddings)\n",
        "data_loader = DataLoader(dataset, batch_size=batch_size, shuffle=True, num_workers=4)\n",
        "\n",
        "optimizer = optim.Adam(score_model.parameters(), lr=lr)\n",
        "for epoch in range(n_epochs):\n",
        "    avg_loss = 0.\n",
        "    num_items = 0\n",
        "    for x, y in data_loader:\n",
        "        x = x.to(device)\n",
        "        loss = loss_fn(score_model, x, y, marginal_prob_std_fn)\n",
        "        optimizer.zero_grad()\n",
        "        loss.backward()\n",
        "        optimizer.step()\n",
        "        avg_loss += loss.item() * x.shape[0]\n",
        "        num_items += x.shape[0]\n",
        "    # Print the averaged training loss so far.\n",
        "    print('Average Loss: {:5f}'.format(avg_loss / num_items))\n",
        "    # Update the checkpoint after each epoch of training.\n",
        "    torch.save(score_model.state_dict(), 'ckpt.pth')"
      ],
      "metadata": {
        "colab": {
          "base_uri": "https://localhost:8080/"
        },
        "id": "fluo48Msd5bA",
        "outputId": "d657ae5e-13cf-4dda-e2c9-7c77a36df4bf"
      },
      "execution_count": 22,
      "outputs": [
        {
          "output_type": "stream",
          "name": "stderr",
          "text": [
            "/usr/local/lib/python3.10/dist-packages/torch/utils/data/dataloader.py:560: UserWarning: This DataLoader will create 4 worker processes in total. Our suggested max number of worker in current system is 2, which is smaller than what this DataLoader is going to create. Please be aware that excessive worker creation might get DataLoader running slow or even freeze, lower the worker number to avoid potential slowness/freeze if necessary.\n",
            "  warnings.warn(_create_warning_msg(\n",
            "<ipython-input-12-5e6f4f12c821>:13: UserWarning: To copy construct from a tensor, it is recommended to use sourceTensor.clone().detach() or sourceTensor.clone().detach().requires_grad_(True), rather than torch.tensor(sourceTensor).\n",
            "  t = torch.tensor(t, device=device)\n"
          ]
        },
        {
          "output_type": "stream",
          "name": "stdout",
          "text": [
            "Average Loss: 39866.442628\n",
            "Average Loss: 24200.793846\n",
            "Average Loss: 22185.336696\n",
            "Average Loss: 21075.975296\n",
            "Average Loss: 20888.283864\n",
            "Average Loss: 20475.301858\n",
            "Average Loss: 20551.518831\n",
            "Average Loss: 20347.863927\n",
            "Average Loss: 20221.526948\n",
            "Average Loss: 20326.842966\n",
            "Average Loss: 20260.701406\n",
            "Average Loss: 20323.844275\n",
            "Average Loss: 20156.373054\n",
            "Average Loss: 55870.569944\n",
            "Average Loss: 21521.277185\n",
            "Average Loss: 22986.065453\n",
            "Average Loss: 21575.331394\n",
            "Average Loss: 20124.050808\n",
            "Average Loss: 20044.717455\n",
            "Average Loss: 20082.320297\n",
            "Average Loss: 20072.473006\n",
            "Average Loss: 20037.744317\n",
            "Average Loss: 20027.346514\n",
            "Average Loss: 19987.936374\n",
            "Average Loss: 19977.448851\n",
            "Average Loss: 20112.316207\n",
            "Average Loss: 20017.973758\n",
            "Average Loss: 20023.366960\n",
            "Average Loss: 19993.384566\n",
            "Average Loss: 20035.719395\n",
            "Average Loss: 20013.951136\n",
            "Average Loss: 19988.306592\n",
            "Average Loss: 20021.829790\n",
            "Average Loss: 19954.224310\n",
            "Average Loss: 19928.724150\n",
            "Average Loss: 20029.633999\n",
            "Average Loss: 20035.228435\n",
            "Average Loss: 20116.576352\n",
            "Average Loss: 20034.528031\n",
            "Average Loss: 20249.662942\n",
            "Average Loss: 20273.329685\n",
            "Average Loss: 19973.454153\n",
            "Average Loss: 20056.044502\n",
            "Average Loss: 20025.045446\n",
            "Average Loss: 19977.573771\n",
            "Average Loss: 20192.261273\n",
            "Average Loss: 20221.546577\n",
            "Average Loss: 20033.167391\n",
            "Average Loss: 19943.321319\n",
            "Average Loss: 19971.091352\n"
          ]
        }
      ]
    },
    {
      "cell_type": "code",
      "source": [
        "num_steps =  500\n",
        "def Euler_Maruyama_sampler(score_model,\n",
        "                           y,\n",
        "                           marginal_prob_std,\n",
        "                           diffusion_coeff,\n",
        "                           batch_size=64,\n",
        "                           num_steps=num_steps,\n",
        "                           device='cuda',\n",
        "                           eps=1e-3):\n",
        "    \"\"\"Generate samples from score-based models with the Euler-Maruyama solver.\n",
        "\n",
        "    Args:\n",
        "      score_model: A PyTorch model that represents the time-dependent score-based model.\n",
        "      marginal_prob_std: A function that gives the standard deviation of\n",
        "        the perturbation kernel.\n",
        "      diffusion_coeff: A function that gives the diffusion coefficient of the SDE.\n",
        "      batch_size: The number of samplers to generate by calling this function once.\n",
        "      num_steps: The number of sampling steps.\n",
        "        Equivalent to the number of discretized time steps.\n",
        "      device: 'cuda' for running on GPUs, and 'cpu' for running on CPUs.\n",
        "      eps: The smallest time step for numerical stability.\n",
        "\n",
        "    Returns:\n",
        "      Samples.\n",
        "    \"\"\"\n",
        "    t = torch.ones(batch_size, device=device)\n",
        "    init_x = torch.randn(batch_size, 625, device=device) \\\n",
        "        * marginal_prob_std(t)[:, None]\n",
        "    time_steps = torch.linspace(1., eps, num_steps, device=device)\n",
        "    step_size = time_steps[0] - time_steps[1]\n",
        "    x = init_x\n",
        "    with torch.no_grad():\n",
        "        for time_step in time_steps:\n",
        "            batch_time_step = torch.ones(batch_size, device=device) * time_step\n",
        "            g = diffusion_coeff(batch_time_step)\n",
        "            mean_x = x + (g**2)[:, None] * score_model(x, batch_time_step, y) * step_size\n",
        "            x = mean_x + torch.sqrt(step_size) * g[:, None] * torch.randn_like(x)\n",
        "    # Do not include any noise in the last sampling step.\n",
        "    return mean_x"
      ],
      "metadata": {
        "id": "I2mWdjeDr6w5"
      },
      "execution_count": 28,
      "outputs": []
    },
    {
      "cell_type": "code",
      "source": [
        "## Load the pre-trained checkpoint from disk.\n",
        "device = 'cpu' # ['cuda', 'cpu']\n",
        "ckpt = torch.load('ckpt.pth', map_location=device)\n",
        "score_model.load_state_dict(ckpt)\n",
        "\n",
        "sample_batch_size = 64\n",
        "sampler = Euler_Maruyama_sampler\n",
        "y = torch.from_numpy(valid_embeddings[:sample_batch_size])\n",
        "\n",
        "## Generate samples using the specified sampler.\n",
        "samples = sampler(score_model,\n",
        "                  y,\n",
        "                  marginal_prob_std_fn,\n",
        "                  diffusion_coeff_fn,\n",
        "                  sample_batch_size,\n",
        "                  device=device)"
      ],
      "metadata": {
        "colab": {
          "base_uri": "https://localhost:8080/"
        },
        "id": "DeBfU62rtnAc",
        "outputId": "c8d90535-425e-4a32-fbee-518bd3730ddd"
      },
      "execution_count": 30,
      "outputs": [
        {
          "output_type": "stream",
          "name": "stderr",
          "text": [
            "<ipython-input-12-5e6f4f12c821>:13: UserWarning: To copy construct from a tensor, it is recommended to use sourceTensor.clone().detach() or sourceTensor.clone().detach().requires_grad_(True), rather than torch.tensor(sourceTensor).\n",
            "  t = torch.tensor(t, device=device)\n",
            "<ipython-input-12-5e6f4f12c821>:26: UserWarning: To copy construct from a tensor, it is recommended to use sourceTensor.clone().detach() or sourceTensor.clone().detach().requires_grad_(True), rather than torch.tensor(sourceTensor).\n",
            "  return torch.tensor(sigma**t, device=device)\n"
          ]
        }
      ]
    },
    {
      "cell_type": "code",
      "source": [
        "samples.shape"
      ],
      "metadata": {
        "colab": {
          "base_uri": "https://localhost:8080/"
        },
        "id": "-fdaOl9luHyx",
        "outputId": "a8f89054-2f84-4478-bf56-e8b1f2a022c0"
      },
      "execution_count": 31,
      "outputs": [
        {
          "output_type": "execute_result",
          "data": {
            "text/plain": [
              "torch.Size([64, 625])"
            ]
          },
          "metadata": {},
          "execution_count": 31
        }
      ]
    },
    {
      "cell_type": "code",
      "source": [
        "class MLP(nn.Module):\n",
        "    def __init__(self, input_dim: int, hidden_dims: list, output_dim: int, activation: str = \"relu\", bias=True):\n",
        "        super().__init__()\n",
        "        dims = [input_dim] + hidden_dims + [output_dim]\n",
        "\n",
        "        if activation == \"relu\":\n",
        "            activation = nn.ReLU\n",
        "        elif activation == \"sigmoid\":\n",
        "            activation = nn.Sigmoid\n",
        "        elif activation == \"tanh\":\n",
        "            activation = nn.Tanh\n",
        "        elif activation == \"gelu\":\n",
        "            activation = nn.GELU\n",
        "        else:\n",
        "            raise ValueError()\n",
        "\n",
        "        layerlist = []\n",
        "        for i in range(len(dims) - 2):\n",
        "            layerlist.append(nn.Linear(dims[i], dims[i+1], bias=bias))\n",
        "            layerlist.append(activation())\n",
        "        layerlist.append(nn.Linear(dims[-2], dims[-1], bias=True))\n",
        "\n",
        "        self.layers = nn.Sequential(*layerlist)\n",
        "\n",
        "    def forward(self, x):\n",
        "        return self.layers(x)"
      ],
      "metadata": {
        "id": "5ymtNS7guZdt"
      },
      "execution_count": 32,
      "outputs": []
    },
    {
      "cell_type": "code",
      "source": [
        "sampled_model = MLP(input_dim=3, hidden_dims=[16,16,16], output_dim=1)\n",
        "nn.utils.vector_to_parameters(samples[0, :], sampled_model.parameters())"
      ],
      "metadata": {
        "id": "6jElt495ulUT"
      },
      "execution_count": 33,
      "outputs": []
    },
    {
      "cell_type": "code",
      "source": [
        "valid_expr.iloc[0]"
      ],
      "metadata": {
        "colab": {
          "base_uri": "https://localhost:8080/"
        },
        "id": "XikBqruVu7LC",
        "outputId": "7e861ea2-eaad-4abf-ac35-373132af3528"
      },
      "execution_count": 34,
      "outputs": [
        {
          "output_type": "execute_result",
          "data": {
            "text/plain": [
              "Unnamed: 0                             0\n",
              "expr                    ((i1 + i0) * i2)\n",
              "index                                  0\n",
              "best_mse_loss                   0.041721\n",
              "best_scaled_mse_loss            0.000272\n",
              "Name: 0, dtype: object"
            ]
          },
          "metadata": {},
          "execution_count": 34
        }
      ]
    },
    {
      "cell_type": "code",
      "source": [
        "sampled_model(torch.tensor([[1., 1., 1.]]))"
      ],
      "metadata": {
        "colab": {
          "base_uri": "https://localhost:8080/"
        },
        "id": "g3wEhrR4u9nR",
        "outputId": "b4badef0-cc5e-4405-f60b-3f65fbf1d8cf"
      },
      "execution_count": 36,
      "outputs": [
        {
          "output_type": "execute_result",
          "data": {
            "text/plain": [
              "tensor([[-347799.1250]], grad_fn=<AddmmBackward0>)"
            ]
          },
          "metadata": {},
          "execution_count": 36
        }
      ]
    },
    {
      "cell_type": "code",
      "source": [],
      "metadata": {
        "id": "sCw8mmVu17p5"
      },
      "execution_count": null,
      "outputs": []
    }
  ],
  "metadata": {
    "language_info": {
      "name": "python"
    },
    "orig_nbformat": 4,
    "colab": {
      "provenance": []
    },
    "kernelspec": {
      "name": "python3",
      "display_name": "Python 3"
    }
  },
  "nbformat": 4,
  "nbformat_minor": 0
}