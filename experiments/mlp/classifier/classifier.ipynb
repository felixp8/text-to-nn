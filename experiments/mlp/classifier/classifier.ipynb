{
  "cells": [
    {
      "cell_type": "markdown",
      "metadata": {
        "id": "48hAZ3DhrL2G"
      },
      "source": [
        "<a target=\"_blank\" href=\"https://colab.research.google.com/github/felixp8/text-to-nn/blob/main/experiments/mlp/classifier/classifier.ipynb\">\n",
        "  <img src=\"https://colab.research.google.com/assets/colab-badge.svg\" alt=\"Open In Colab\"/>\n",
        "</a>"
      ]
    },
    {
      "cell_type": "code",
      "source": [
        "!pip install lightning"
      ],
      "metadata": {
        "id": "X3OtiA-0sNRx"
      },
      "execution_count": 92,
      "outputs": []
    },
    {
      "cell_type": "code",
      "execution_count": 2,
      "metadata": {
        "id": "uk2epUd3rL2L",
        "outputId": "2c21bc97-eb73-4a58-a651-39d27404cbcd",
        "colab": {
          "base_uri": "https://localhost:8080/"
        }
      },
      "outputs": [
        {
          "output_type": "stream",
          "name": "stdout",
          "text": [
            "Cloning into 'text-to-nn'...\n",
            "remote: Enumerating objects: 132, done.\u001b[K\n",
            "remote: Counting objects: 100% (26/26), done.\u001b[K\n",
            "remote: Compressing objects: 100% (23/23), done.\u001b[K\n",
            "remote: Total 132 (delta 9), reused 6 (delta 2), pack-reused 106\u001b[K\n",
            "Receiving objects: 100% (132/132), 46.43 MiB | 25.42 MiB/s, done.\n",
            "Resolving deltas: 100% (47/47), done.\n"
          ]
        }
      ],
      "source": [
        "!git clone https://github.com/felixp8/text-to-nn.git"
      ]
    },
    {
      "cell_type": "code",
      "source": [
        "import os\n",
        "\n",
        "os.chdir(\"./text-to-nn/experiments/mlp/data_generation\")"
      ],
      "metadata": {
        "id": "uQx4tZ8csIxV"
      },
      "execution_count": 3,
      "outputs": []
    },
    {
      "cell_type": "code",
      "source": [
        "import numpy as np\n",
        "import pandas as pd\n",
        "import sympy as sp\n",
        "import matplotlib.pyplot as plt\n",
        "from sklearn.preprocessing import LabelEncoder, StandardScaler\n",
        "import h5py"
      ],
      "metadata": {
        "id": "rs5qXSVprPGy"
      },
      "execution_count": 21,
      "outputs": []
    },
    {
      "cell_type": "code",
      "source": [
        "from expr_utils import map_inputs, clean_expr"
      ],
      "metadata": {
        "id": "HxZRKgiXsPDb"
      },
      "execution_count": 5,
      "outputs": []
    },
    {
      "cell_type": "code",
      "source": [
        "expression_file = \"./data/simple/expressions.csv\"\n",
        "parameter_file = \"./data/simple/parameters.h5\"\n",
        "\n",
        "expr_csv = pd.read_csv(expression_file)\n",
        "with h5py.File(parameter_file, 'r') as h5f:\n",
        "    parameters = h5f['nn_parameters'][:h5f['counter'][()].item(), :]\n",
        "\n",
        "assert expr_csv.shape[0] == parameters.shape[0]"
      ],
      "metadata": {
        "id": "25FIYaxDrdKP"
      },
      "execution_count": 78,
      "outputs": []
    },
    {
      "cell_type": "code",
      "source": [
        "mult_mask = np.array(['*' in expr for expr in expr_csv['expr']])\n",
        "\n",
        "expr_csv = expr_csv[~mult_mask]\n",
        "parameters = parameters[~mult_mask]"
      ],
      "metadata": {
        "id": "0kKUQg6LKGVC"
      },
      "execution_count": 79,
      "outputs": []
    },
    {
      "cell_type": "code",
      "source": [
        "expr_list = expr_csv['expr']\n",
        "expr_list = [map_inputs(expr, 3, ['x', 'y', 'z']) for expr in expr_list]\n",
        "expr_list = [clean_expr(expr) for expr in expr_list]\n",
        "expr_list = [str(sp.parsing.sympy_parser.parse_expr(expr, evaluate=False)) for expr in expr_list]"
      ],
      "metadata": {
        "id": "8LH4Dlwqr7Uz"
      },
      "execution_count": 80,
      "outputs": []
    },
    {
      "cell_type": "code",
      "source": [
        "le = LabelEncoder()\n",
        "classes = le.fit_transform(expr_list)\n",
        "num_classes = len(np.unique(classes))"
      ],
      "metadata": {
        "id": "LBQxIqqXsUEO"
      },
      "execution_count": 81,
      "outputs": []
    },
    {
      "cell_type": "code",
      "source": [
        "# ss = StandardScaler()\n",
        "# parameters_scaled = ss.fit_transform(parameters)"
      ],
      "metadata": {
        "id": "IzgH_ueM8dyN"
      },
      "execution_count": 26,
      "outputs": []
    },
    {
      "cell_type": "code",
      "source": [
        "for i in range(2):\n",
        "    mask = classes == i\n",
        "    plt.hist(parameters[mask][:, 0], bins=np.arange(-2., 2., 0.05), alpha=0.5)\n",
        "    print(mask.sum())"
      ],
      "metadata": {
        "id": "Le_eotCzK-Q7",
        "outputId": "b0ef117b-8376-4562-c156-8e6a25bf396d",
        "colab": {
          "base_uri": "https://localhost:8080/",
          "height": 465
        }
      },
      "execution_count": 91,
      "outputs": [
        {
          "output_type": "stream",
          "name": "stdout",
          "text": [
            "162\n",
            "164\n"
          ]
        },
        {
          "output_type": "display_data",
          "data": {
            "text/plain": [
              "<Figure size 640x480 with 1 Axes>"
            ],
            "image/png": "[encoded data removed]"
          },
          "metadata": {}
        }
      ]
    },
    {
      "cell_type": "code",
      "source": [
        "import torch\n",
        "import torch.nn as nn\n",
        "import torch.nn.functional as F\n",
        "import torch.optim as optim"
      ],
      "metadata": {
        "id": "NF1ORZVksjVR"
      },
      "execution_count": 9,
      "outputs": []
    },
    {
      "cell_type": "code",
      "source": [
        "from model import MLP"
      ],
      "metadata": {
        "id": "d-VVqbt8tHZc"
      },
      "execution_count": 10,
      "outputs": []
    },
    {
      "cell_type": "code",
      "source": [
        "inputs = torch.from_numpy(parameters)\n",
        "targets = torch.from_numpy(classes)\n",
        "\n",
        "dataset = torch.utils.data.TensorDataset(inputs, targets)\n",
        "train_dataset, valid_dataset = torch.utils.data.random_split(dataset, [0.7, 0.3])\n",
        "\n",
        "num_train = len(train_dataset)\n",
        "num_valid = len(valid_dataset)\n",
        "\n",
        "train_dataloader = torch.utils.data.DataLoader(train_dataset, batch_size=512, shuffle=True)\n",
        "valid_dataloader = torch.utils.data.DataLoader(valid_dataset, batch_size=512)"
      ],
      "metadata": {
        "id": "YDOpdism3IP6"
      },
      "execution_count": 83,
      "outputs": []
    },
    {
      "cell_type": "code",
      "source": [
        "num_epochs = 100\n",
        "lr = 1e-3\n",
        "device = 'cpu'\n",
        "log_every_n_epochs = 5\n",
        "\n",
        "model = MLP(\n",
        "    input_dim=353,\n",
        "    hidden_dims=[256, 128,],\n",
        "    output_dim=num_classes,\n",
        "    activation='relu',\n",
        "    dropout=0.5,\n",
        ")\n",
        "\n",
        "model = model.to(device)\n",
        "\n",
        "optimizer = optim.AdamW(model.parameters(), lr=lr, weight_decay=1e-4)\n",
        "for n in range(num_epochs):\n",
        "    mean_train_loss = 0\n",
        "    for batch in train_dataloader:\n",
        "        optimizer.zero_grad()\n",
        "        x, y = batch\n",
        "        x = x.to(device)\n",
        "        y = y.to(device)\n",
        "        y_pred = model(x)\n",
        "        loss = F.cross_entropy(y_pred, y)\n",
        "        loss.backward()\n",
        "        optimizer.step()\n",
        "        mean_train_loss += loss.item() * x.shape[0] / num_train\n",
        "    if (n % log_every_n_epochs == 0) or (n == num_epochs - 1):\n",
        "        mean_valid_loss = 0\n",
        "        for batch in valid_dataloader:\n",
        "            with torch.no_grad():\n",
        "                x, y = batch\n",
        "                x = x.to(device)\n",
        "                y = y.to(device)\n",
        "                y_pred = model(x)\n",
        "                loss = F.cross_entropy(y_pred, y)\n",
        "                mean_valid_loss += loss.item() * x.shape[0] / num_valid\n",
        "        print(f\"Epoch {n:04d}: train loss = {mean_train_loss}, valid loss = {mean_valid_loss}\")"
      ],
      "metadata": {
        "id": "47hm8Bjl3YWF",
        "outputId": "ed21e896-aee2-4ecf-b131-4b4333b3ce41",
        "colab": {
          "base_uri": "https://localhost:8080/"
        }
      },
      "execution_count": 86,
      "outputs": [
        {
          "output_type": "stream",
          "name": "stdout",
          "text": [
            "Epoch 0000: train loss = 3.326159643845486, valid loss = 3.307714401542461\n",
            "Epoch 0005: train loss = 3.0716332030771802, valid loss = 3.1114367369009965\n",
            "Epoch 0010: train loss = 3.0266500448957423, valid loss = 3.090796494211987\n",
            "Epoch 0015: train loss = 2.994181618246064, valid loss = 3.0866130477122025\n",
            "Epoch 0020: train loss = 2.9438297357508745, valid loss = 3.0917191868045935\n",
            "Epoch 0025: train loss = 2.8896926168411494, valid loss = 3.09395265851184\n",
            "Epoch 0030: train loss = 2.8302700676760826, valid loss = 3.1083021064221636\n",
            "Epoch 0035: train loss = 2.7635698266081756, valid loss = 3.1314776659918375\n",
            "Epoch 0040: train loss = 2.71993668320997, valid loss = 3.131118056438722\n",
            "Epoch 0045: train loss = 2.6660867105133903, valid loss = 3.1521836351532446\n",
            "Epoch 0050: train loss = 2.6248839407079725, valid loss = 3.146607985514652\n",
            "Epoch 0055: train loss = 2.538401130548958, valid loss = 3.1513247517125236\n",
            "Epoch 0060: train loss = 2.5089989780748962, valid loss = 3.1073528170132363\n",
            "Epoch 0065: train loss = 2.4475829530451225, valid loss = 3.1539803756960447\n",
            "Epoch 0070: train loss = 2.374188391134707, valid loss = 3.1349987104365127\n",
            "Epoch 0075: train loss = 2.3447020104322482, valid loss = 3.1499908124539338\n",
            "Epoch 0080: train loss = 2.2837618134785433, valid loss = 3.1401004165750948\n",
            "Epoch 0085: train loss = 2.2544169374535032, valid loss = 3.1272569210357086\n",
            "Epoch 0090: train loss = 2.196552128242583, valid loss = 3.117542077379988\n",
            "Epoch 0095: train loss = 2.161798243314986, valid loss = 3.0841690134186255\n",
            "Epoch 0099: train loss = 2.1213177006371775, valid loss = 3.122899680083242\n"
          ]
        }
      ]
    },
    {
      "cell_type": "code",
      "source": [],
      "metadata": {
        "id": "QHcBjF30KAoi"
      },
      "execution_count": null,
      "outputs": []
    }
  ],
  "metadata": {
    "language_info": {
      "name": "python"
    },
    "orig_nbformat": 4,
    "colab": {
      "provenance": []
    },
    "kernelspec": {
      "name": "python3",
      "display_name": "Python 3"
    }
  },
  "nbformat": 4,
  "nbformat_minor": 0
}