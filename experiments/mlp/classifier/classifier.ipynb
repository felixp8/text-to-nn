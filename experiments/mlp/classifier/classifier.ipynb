{
  "cells": [
    {
      "cell_type": "markdown",
      "metadata": {
        "id": "48hAZ3DhrL2G"
      },
      "source": [
        "<a target=\"_blank\" href=\"https://colab.research.google.com/github/felixp8/text-to-nn/blob/main/experiments/mlp/classifier/classifier.ipynb\">\n",
        "  <img src=\"https://colab.research.google.com/assets/colab-badge.svg\" alt=\"Open In Colab\"/>\n",
        "</a>"
      ]
    },
    {
      "cell_type": "code",
      "source": [
        "!pip install lightning"
      ],
      "metadata": {
        "id": "X3OtiA-0sNRx"
      },
      "execution_count": 62,
      "outputs": []
    },
    {
      "cell_type": "code",
      "execution_count": 2,
      "metadata": {
        "id": "uk2epUd3rL2L",
        "outputId": "162cadd1-fc6e-4193-b720-009bb8f7d2d6",
        "colab": {
          "base_uri": "https://localhost:8080/"
        }
      },
      "outputs": [
        {
          "output_type": "stream",
          "name": "stdout",
          "text": [
            "Cloning into 'text-to-nn'...\n",
            "remote: Enumerating objects: 152, done.\u001b[K\n",
            "remote: Counting objects: 100% (46/46), done.\u001b[K\n",
            "remote: Compressing objects: 100% (39/39), done.\u001b[K\n",
            "remote: Total 152 (delta 14), reused 20 (delta 5), pack-reused 106\u001b[K\n",
            "Receiving objects: 100% (152/152), 61.83 MiB | 21.81 MiB/s, done.\n",
            "Resolving deltas: 100% (52/52), done.\n",
            "Updating files: 100% (26/26), done.\n"
          ]
        }
      ],
      "source": [
        "!git clone https://github.com/felixp8/text-to-nn.git"
      ]
    },
    {
      "cell_type": "code",
      "source": [
        "import os\n",
        "\n",
        "os.chdir(\"./text-to-nn/experiments/mlp/data_generation\")"
      ],
      "metadata": {
        "id": "uQx4tZ8csIxV"
      },
      "execution_count": 3,
      "outputs": []
    },
    {
      "cell_type": "code",
      "source": [
        "import numpy as np\n",
        "import pandas as pd\n",
        "import sympy as sp\n",
        "import matplotlib.pyplot as plt\n",
        "from sklearn.preprocessing import LabelEncoder, StandardScaler\n",
        "import h5py"
      ],
      "metadata": {
        "id": "rs5qXSVprPGy"
      },
      "execution_count": 4,
      "outputs": []
    },
    {
      "cell_type": "code",
      "source": [
        "from expr_utils import map_inputs, clean_expr"
      ],
      "metadata": {
        "id": "HxZRKgiXsPDb"
      },
      "execution_count": 5,
      "outputs": []
    },
    {
      "cell_type": "code",
      "source": [
        "expression_file = \"./data/tiny/expressions.csv\"\n",
        "parameter_file = \"./data/tiny/parameters.h5\"\n",
        "\n",
        "expr_csv = pd.read_csv(expression_file)\n",
        "with h5py.File(parameter_file, 'r') as h5f:\n",
        "    parameters = h5f['nn_parameters'][:h5f['counter'][()].item(), :]\n",
        "\n",
        "assert expr_csv.shape[0] == parameters.shape[0]"
      ],
      "metadata": {
        "id": "25FIYaxDrdKP"
      },
      "execution_count": 49,
      "outputs": []
    },
    {
      "cell_type": "code",
      "source": [
        "mult_mask = np.array(['*' in expr for expr in expr_csv['expr']])\n",
        "\n",
        "expr_csv = expr_csv[~mult_mask]\n",
        "parameters = parameters[~mult_mask]"
      ],
      "metadata": {
        "id": "0kKUQg6LKGVC"
      },
      "execution_count": 50,
      "outputs": []
    },
    {
      "cell_type": "code",
      "source": [
        "expr_list = expr_csv['expr']\n",
        "expr_list = [map_inputs(expr, 3, ['x', 'y', 'z']) for expr in expr_list]\n",
        "expr_list = [clean_expr(expr) for expr in expr_list]\n",
        "expr_list = [str(sp.parsing.sympy_parser.parse_expr(expr, evaluate=False)) for expr in expr_list]"
      ],
      "metadata": {
        "id": "8LH4Dlwqr7Uz"
      },
      "execution_count": 51,
      "outputs": []
    },
    {
      "cell_type": "code",
      "source": [
        "le = LabelEncoder()\n",
        "classes = le.fit_transform(expr_list)\n",
        "num_classes = len(np.unique(classes))"
      ],
      "metadata": {
        "id": "LBQxIqqXsUEO"
      },
      "execution_count": 52,
      "outputs": []
    },
    {
      "cell_type": "code",
      "source": [
        "# ss = StandardScaler()\n",
        "# parameters_scaled = ss.fit_transform(parameters)"
      ],
      "metadata": {
        "id": "IzgH_ueM8dyN"
      },
      "execution_count": null,
      "outputs": []
    },
    {
      "cell_type": "code",
      "source": [
        "for i in range(2):\n",
        "    mask = classes == i\n",
        "    plt.hist(parameters[mask][:, 2], bins=np.arange(-2., 2., 0.05), alpha=0.5)\n",
        "    print(mask.sum())"
      ],
      "metadata": {
        "id": "Le_eotCzK-Q7",
        "outputId": "52617ec7-a46d-4634-d908-83157f109aac",
        "colab": {
          "base_uri": "https://localhost:8080/",
          "height": 465
        }
      },
      "execution_count": 53,
      "outputs": [
        {
          "output_type": "stream",
          "name": "stdout",
          "text": [
            "1269\n",
            "1307\n"
          ]
        },
        {
          "output_type": "display_data",
          "data": {
            "text/plain": [
              "<Figure size 640x480 with 1 Axes>"
            ],
            "image/png": "[encoded data removed]"
          },
          "metadata": {}
        }
      ]
    },
    {
      "cell_type": "code",
      "source": [
        "import torch\n",
        "import torch.nn as nn\n",
        "import torch.nn.functional as F\n",
        "import torch.optim as optim"
      ],
      "metadata": {
        "id": "NF1ORZVksjVR"
      },
      "execution_count": 54,
      "outputs": []
    },
    {
      "cell_type": "code",
      "source": [
        "from model import MLP"
      ],
      "metadata": {
        "id": "d-VVqbt8tHZc"
      },
      "execution_count": 55,
      "outputs": []
    },
    {
      "cell_type": "code",
      "source": [
        "inputs = torch.from_numpy(parameters)\n",
        "targets = torch.from_numpy(classes)\n",
        "\n",
        "dataset = torch.utils.data.TensorDataset(inputs, targets)\n",
        "train_dataset, valid_dataset = torch.utils.data.random_split(dataset, [0.7, 0.3])\n",
        "\n",
        "num_train = len(train_dataset)\n",
        "num_valid = len(valid_dataset)\n",
        "\n",
        "train_dataloader = torch.utils.data.DataLoader(train_dataset, batch_size=512, shuffle=True)\n",
        "valid_dataloader = torch.utils.data.DataLoader(valid_dataset, batch_size=512)"
      ],
      "metadata": {
        "id": "YDOpdism3IP6"
      },
      "execution_count": 56,
      "outputs": []
    },
    {
      "cell_type": "code",
      "source": [
        "num_epochs = 400\n",
        "lr = 1e-3\n",
        "device = 'cpu'\n",
        "log_every_n_epochs = 10\n",
        "\n",
        "model = MLP(\n",
        "    input_dim=65, # 353,\n",
        "    hidden_dims=[32, 32,],\n",
        "    output_dim=num_classes,\n",
        "    activation='relu',\n",
        "    dropout=0.3,\n",
        ")\n",
        "\n",
        "model = model.to(device)\n",
        "\n",
        "optimizer = optim.AdamW(model.parameters(), lr=lr, weight_decay=1e-4)\n",
        "for n in range(num_epochs):\n",
        "    model.train()\n",
        "    mean_train_loss = 0\n",
        "    for batch in train_dataloader:\n",
        "        optimizer.zero_grad()\n",
        "        x, y = batch\n",
        "        x = x.to(device)\n",
        "        y = y.to(device)\n",
        "        y_pred = model(x)\n",
        "        loss = F.cross_entropy(y_pred, y)\n",
        "        loss.backward()\n",
        "        optimizer.step()\n",
        "        mean_train_loss += loss.item() * x.shape[0] / num_train\n",
        "    if (n % log_every_n_epochs == 0) or (n == num_epochs - 1):\n",
        "        model.eval()\n",
        "        mean_valid_loss = 0\n",
        "        mean_valid_accuracy = 0\n",
        "        for batch in valid_dataloader:\n",
        "            with torch.no_grad():\n",
        "                x, y = batch\n",
        "                x = x.to(device)\n",
        "                y = y.to(device)\n",
        "                y_pred = model(x)\n",
        "                loss = F.cross_entropy(y_pred, y)\n",
        "                accuracy = (y_pred.argmax(dim=-1) == y).sum() / len(y)\n",
        "                mean_valid_loss += loss.item() * x.shape[0] / num_valid\n",
        "                mean_valid_accuracy += accuracy.item() * x.shape[0] / num_valid\n",
        "        print(\n",
        "            f\"Epoch {n:04d}: train loss = {mean_train_loss:.4f}, \"\n",
        "            f\"valid loss = {mean_valid_loss:.4f}, \"\n",
        "            f\"valid accuracy = {mean_valid_accuracy:.4f}\"\n",
        "        )"
      ],
      "metadata": {
        "id": "47hm8Bjl3YWF",
        "outputId": "f059288f-84d9-4528-a565-bf70ebc42794",
        "colab": {
          "base_uri": "https://localhost:8080/"
        }
      },
      "execution_count": 58,
      "outputs": [
        {
          "output_type": "stream",
          "name": "stdout",
          "text": [
            "Epoch 0000: train loss = 2.0837, valid loss = 2.0853, valid accuracy = 0.1150\n",
            "Epoch 0010: train loss = 1.8731, valid loss = 1.8251, valid accuracy = 0.3537\n",
            "Epoch 0020: train loss = 1.2779, valid loss = 1.0595, valid accuracy = 0.7117\n",
            "Epoch 0030: train loss = 1.0477, valid loss = 0.7679, valid accuracy = 0.8150\n",
            "Epoch 0040: train loss = 0.9777, valid loss = 0.6615, valid accuracy = 0.8363\n",
            "Epoch 0050: train loss = 0.9357, valid loss = 0.5971, valid accuracy = 0.8583\n",
            "Epoch 0060: train loss = 0.8863, valid loss = 0.5584, valid accuracy = 0.8627\n",
            "Epoch 0070: train loss = 0.8676, valid loss = 0.5236, valid accuracy = 0.8740\n",
            "Epoch 0080: train loss = 0.8164, valid loss = 0.4982, valid accuracy = 0.8823\n",
            "Epoch 0090: train loss = 0.8080, valid loss = 0.4779, valid accuracy = 0.8867\n",
            "Epoch 0100: train loss = 0.7802, valid loss = 0.4605, valid accuracy = 0.8870\n",
            "Epoch 0110: train loss = 0.7898, valid loss = 0.4481, valid accuracy = 0.8873\n",
            "Epoch 0120: train loss = 0.7591, valid loss = 0.4377, valid accuracy = 0.8943\n",
            "Epoch 0130: train loss = 0.7560, valid loss = 0.4273, valid accuracy = 0.8953\n",
            "Epoch 0140: train loss = 0.7520, valid loss = 0.4198, valid accuracy = 0.8963\n",
            "Epoch 0150: train loss = 0.7451, valid loss = 0.4155, valid accuracy = 0.8920\n",
            "Epoch 0160: train loss = 0.7311, valid loss = 0.4048, valid accuracy = 0.8920\n",
            "Epoch 0170: train loss = 0.7095, valid loss = 0.4032, valid accuracy = 0.8913\n",
            "Epoch 0180: train loss = 0.7240, valid loss = 0.4001, valid accuracy = 0.8947\n",
            "Epoch 0190: train loss = 0.6989, valid loss = 0.3949, valid accuracy = 0.8923\n",
            "Epoch 0200: train loss = 0.7089, valid loss = 0.3884, valid accuracy = 0.8937\n",
            "Epoch 0210: train loss = 0.6867, valid loss = 0.3849, valid accuracy = 0.8987\n",
            "Epoch 0220: train loss = 0.6926, valid loss = 0.3843, valid accuracy = 0.8970\n",
            "Epoch 0230: train loss = 0.6622, valid loss = 0.3837, valid accuracy = 0.8940\n",
            "Epoch 0240: train loss = 0.6858, valid loss = 0.3854, valid accuracy = 0.8920\n",
            "Epoch 0250: train loss = 0.6716, valid loss = 0.3828, valid accuracy = 0.8880\n",
            "Epoch 0260: train loss = 0.6542, valid loss = 0.3847, valid accuracy = 0.8903\n",
            "Epoch 0270: train loss = 0.6742, valid loss = 0.3880, valid accuracy = 0.8840\n",
            "Epoch 0280: train loss = 0.6615, valid loss = 0.3837, valid accuracy = 0.8893\n",
            "Epoch 0290: train loss = 0.6740, valid loss = 0.3849, valid accuracy = 0.8883\n",
            "Epoch 0300: train loss = 0.6539, valid loss = 0.3817, valid accuracy = 0.8877\n",
            "Epoch 0310: train loss = 0.6412, valid loss = 0.3823, valid accuracy = 0.8857\n",
            "Epoch 0320: train loss = 0.6627, valid loss = 0.3916, valid accuracy = 0.8847\n",
            "Epoch 0330: train loss = 0.6431, valid loss = 0.3901, valid accuracy = 0.8823\n",
            "Epoch 0340: train loss = 0.6280, valid loss = 0.3931, valid accuracy = 0.8823\n",
            "Epoch 0350: train loss = 0.6294, valid loss = 0.3902, valid accuracy = 0.8820\n",
            "Epoch 0360: train loss = 0.6157, valid loss = 0.3909, valid accuracy = 0.8790\n",
            "Epoch 0370: train loss = 0.6369, valid loss = 0.3985, valid accuracy = 0.8747\n",
            "Epoch 0380: train loss = 0.6187, valid loss = 0.3968, valid accuracy = 0.8727\n",
            "Epoch 0390: train loss = 0.6401, valid loss = 0.4007, valid accuracy = 0.8713\n",
            "Epoch 0399: train loss = 0.6377, valid loss = 0.3973, valid accuracy = 0.8733\n"
          ]
        }
      ]
    },
    {
      "cell_type": "code",
      "source": [
        "model.eval()\n",
        "y_pred_all = []\n",
        "y_all = []\n",
        "for batch in valid_dataloader:\n",
        "    with torch.no_grad():\n",
        "        x, y = batch\n",
        "        x = x.to(device)\n",
        "        y = y.to(device)\n",
        "        y_pred = model(x)\n",
        "        y_pred_all.append(y_pred.argmax(dim=-1).numpy())\n",
        "        y_all.append(y.numpy())\n",
        "model.train()\n",
        "\n",
        "y_pred_all = np.concatenate(y_pred_all)\n",
        "y_all = np.concatenate(y_all)"
      ],
      "metadata": {
        "id": "R1OLXPVPx1Ei"
      },
      "execution_count": 59,
      "outputs": []
    },
    {
      "cell_type": "code",
      "source": [
        "from sklearn.metrics import confusion_matrix\n",
        "confusion_matrix(y_all, y_pred_all)"
      ],
      "metadata": {
        "id": "Nu1H22pO0VCM",
        "outputId": "a0be59d6-4b9b-4380-f1db-3ebe0b46aaed",
        "colab": {
          "base_uri": "https://localhost:8080/"
        }
      },
      "execution_count": 60,
      "outputs": [
        {
          "output_type": "execute_result",
          "data": {
            "text/plain": [
              "array([[309,  38,  18,   4,   0,   0,   0,   0],\n",
              "       [ 34, 334,   3,   2,   0,   1,   0,  30],\n",
              "       [ 23,   0, 330,  26,   0,   0,   0,   0],\n",
              "       [  0,   0,  12, 347,   3,   0,  31,   0],\n",
              "       [  0,   0,   0,   2, 318,  33,  23,   0],\n",
              "       [  0,   0,   0,   0,  16, 322,   0,  16],\n",
              "       [  0,   0,   0,  16,  14,   0, 315,   0],\n",
              "       [  1,  18,   0,   0,   0,  16,   0, 345]])"
            ]
          },
          "metadata": {},
          "execution_count": 60
        }
      ]
    },
    {
      "cell_type": "code",
      "source": [
        "le.classes_"
      ],
      "metadata": {
        "id": "IFeMZ6Wq0Y-Q",
        "outputId": "5883756e-9690-42f1-d066-6d9eb8cc4d84",
        "colab": {
          "base_uri": "https://localhost:8080/"
        }
      },
      "execution_count": 61,
      "outputs": [
        {
          "output_type": "execute_result",
          "data": {
            "text/plain": [
              "array(['-x', '-x + y', '-x - y', '-y', 'x', 'x + y', 'x - y', 'y'],\n",
              "      dtype='<U6')"
            ]
          },
          "metadata": {},
          "execution_count": 61
        }
      ]
    },
    {
      "cell_type": "code",
      "source": [],
      "metadata": {
        "id": "7X6a4GxY0f-S"
      },
      "execution_count": null,
      "outputs": []
    }
  ],
  "metadata": {
    "language_info": {
      "name": "python"
    },
    "orig_nbformat": 4,
    "colab": {
      "provenance": []
    },
    "kernelspec": {
      "name": "python3",
      "display_name": "Python 3"
    }
  },
  "nbformat": 4,
  "nbformat_minor": 0
}